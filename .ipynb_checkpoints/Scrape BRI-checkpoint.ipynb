{
 "cells": [
  {
   "cell_type": "code",
   "execution_count": 1,
   "id": "a3bc182c-8d5d-4980-aad5-def3eff5d3ea",
   "metadata": {},
   "outputs": [],
   "source": [
    "import requests\n",
    "import pandas as pd\n",
    "from bs4 import BeautifulSoup as bs\n",
    "import urllib.request, urllib.error, urllib.parse\n",
    "import time"
   ]
  },
  {
   "cell_type": "code",
   "execution_count": 3,
   "id": "1495a4ca-f71f-4b3d-946f-62e4f1c70f88",
   "metadata": {},
   "outputs": [],
   "source": [
    "url = 'https://www.alamatbank.com/alamat-kantor-bank-bri-di-seluruh-indonesia/'"
   ]
  },
  {
   "cell_type": "code",
   "execution_count": 9,
   "id": "abdb6e24-6b2d-4441-997c-efc666e9739c",
   "metadata": {},
   "outputs": [],
   "source": [
    "resp = requests.get(url)\n",
    "html = resp.content\n",
    "soup = bs(html, 'html.parser')\n",
    "tab = soup.find_all(class_='tabcontent')"
   ]
  },
  {
   "cell_type": "code",
   "execution_count": 13,
   "id": "8593e2de-58f9-4cf9-b123-83d0f4f0f357",
   "metadata": {},
   "outputs": [
    {
     "data": {
      "text/plain": [
       "[<h4>DKI Jakarta</h4>,\n",
       " <h4>Banten</h4>,\n",
       " <h4>DI Yogyakarta</h4>,\n",
       " <h4>Jawa Barat</h4>,\n",
       " <h4>Jawa Tengah</h4>,\n",
       " <h4>Jawa Timur</h4>]"
      ]
     },
     "execution_count": 13,
     "metadata": {},
     "output_type": "execute_result"
    }
   ],
   "source": [
    "tab[0].find_all('h4')"
   ]
  },
  {
   "cell_type": "code",
   "execution_count": 19,
   "id": "88051dce-4e46-4177-b1cd-0f5c88485846",
   "metadata": {},
   "outputs": [],
   "source": [
    "div = tab[0].find_all('div')"
   ]
  },
  {
   "cell_type": "code",
   "execution_count": 25,
   "id": "c9df676c-aa09-404e-8416-52e2aa6f37a5",
   "metadata": {},
   "outputs": [],
   "source": [
    "prov = div[0].find_all('h4')"
   ]
  },
  {
   "cell_type": "code",
   "execution_count": 30,
   "id": "cbf4f69b-2653-45fd-b05e-b5408bd21af6",
   "metadata": {},
   "outputs": [],
   "source": [
    "p = div[0].find_all('p')"
   ]
  },
  {
   "cell_type": "code",
   "execution_count": 31,
   "id": "d5b9e160-ccec-4099-9f51-b42d9821c754",
   "metadata": {},
   "outputs": [
    {
     "data": {
      "text/plain": [
       "<p><a href=\"http://www.alamatbank.com/kantor-bank-bri-di-jakarta-barat/\">Jakarta Barat</a></p>"
      ]
     },
     "execution_count": 31,
     "metadata": {},
     "output_type": "execute_result"
    }
   ],
   "source": [
    "p[0]"
   ]
  },
  {
   "cell_type": "code",
   "execution_count": 52,
   "id": "491f2c8c-a398-457b-b960-f37155938907",
   "metadata": {},
   "outputs": [],
   "source": [
    "kota = p[0].text"
   ]
  },
  {
   "cell_type": "code",
   "execution_count": 55,
   "id": "f6706372-8b72-4652-899c-e9b7842bd92f",
   "metadata": {},
   "outputs": [],
   "source": [
    "url = p[0].find('a')['href']"
   ]
  },
  {
   "cell_type": "code",
   "execution_count": 59,
   "id": "dfa9d4a2-7163-499d-9785-372c95c7692f",
   "metadata": {},
   "outputs": [],
   "source": [
    "response = requests.get(url)\n",
    "web = response.content\n",
    "sp = bs(web, 'html.parser')"
   ]
  },
  {
   "cell_type": "code",
   "execution_count": 65,
   "id": "d3b8485c-c410-4ebe-b8b9-bb60b13c6395",
   "metadata": {},
   "outputs": [],
   "source": [
    "content = sp.find_all(class_ = 'entry-content')\n",
    "tr = content[0].find_all('tr')\n",
    "td = tr[0].find_all('td')"
   ]
  },
  {
   "cell_type": "code",
   "execution_count": 71,
   "id": "801bbf76-a87b-4b66-8822-2e469afebe8d",
   "metadata": {},
   "outputs": [
    {
     "data": {
      "text/plain": [
       "<tr>\n",
       "<td width=\"21\">1</td>\n",
       "<td width=\"45\">KK</td>\n",
       "<td width=\"98\">Asemka</td>\n",
       "<td width=\"234\">Jl. Pintu Kecil No.58 F Kel. Roa Malaka, Kec. Tambora, Jakarta</td>\n",
       "<td width=\"93\">(021) 6917426</td>\n",
       "<td width=\"92\">(021) 6917433</td>\n",
       "</tr>"
      ]
     },
     "execution_count": 71,
     "metadata": {},
     "output_type": "execute_result"
    }
   ],
   "source": [
    "tr[1]"
   ]
  },
  {
   "cell_type": "code",
   "execution_count": 72,
   "id": "a6c7a795-8aa1-49fa-b6cb-5145ee8537a0",
   "metadata": {},
   "outputs": [],
   "source": [
    "cabang = []\n",
    "alamat = []"
   ]
  },
  {
   "cell_type": "code",
   "execution_count": 155,
   "id": "7481999a-921d-413d-b0be-8fa9bf46801b",
   "metadata": {},
   "outputs": [
    {
     "name": "stdout",
     "output_type": "stream",
     "text": [
      "Kota :  Tulungagung Kab. )\r"
     ]
    },
    {
     "data": {
      "text/html": [
       "<div>\n",
       "<style scoped>\n",
       "    .dataframe tbody tr th:only-of-type {\n",
       "        vertical-align: middle;\n",
       "    }\n",
       "\n",
       "    .dataframe tbody tr th {\n",
       "        vertical-align: top;\n",
       "    }\n",
       "\n",
       "    .dataframe thead th {\n",
       "        text-align: right;\n",
       "    }\n",
       "</style>\n",
       "<table border=\"1\" class=\"dataframe\">\n",
       "  <thead>\n",
       "    <tr style=\"text-align: right;\">\n",
       "      <th></th>\n",
       "      <th>Bank</th>\n",
       "      <th>Provinsi</th>\n",
       "      <th>City</th>\n",
       "      <th>Cabang</th>\n",
       "      <th>Alamat</th>\n",
       "    </tr>\n",
       "  </thead>\n",
       "  <tbody>\n",
       "    <tr>\n",
       "      <th>0</th>\n",
       "      <td>Bank BRI</td>\n",
       "      <td>DKI Jakarta</td>\n",
       "      <td>Jakarta Barat</td>\n",
       "      <td>KK Asemka</td>\n",
       "      <td>Jl. Pintu Kecil No.58 F Kel. Roa Malaka, Kec. ...</td>\n",
       "    </tr>\n",
       "    <tr>\n",
       "      <th>1</th>\n",
       "      <td>Bank BRI</td>\n",
       "      <td>DKI Jakarta</td>\n",
       "      <td>Jakarta Barat</td>\n",
       "      <td>KCP Batusari</td>\n",
       "      <td>Jl. Kebon Jeruk Raya No.24, Kebon Jeruk, Jakar...</td>\n",
       "    </tr>\n",
       "    <tr>\n",
       "      <th>2</th>\n",
       "      <td>Bank BRI</td>\n",
       "      <td>DKI Jakarta</td>\n",
       "      <td>Jakarta Barat</td>\n",
       "      <td>KCP Citra Niaga</td>\n",
       "      <td>Ruko Citra Niaga Blok A No.28, Jl. Utanjati Ka...</td>\n",
       "    </tr>\n",
       "    <tr>\n",
       "      <th>3</th>\n",
       "      <td>Bank BRI</td>\n",
       "      <td>DKI Jakarta</td>\n",
       "      <td>Jakarta Barat</td>\n",
       "      <td>KC Daan Mogot</td>\n",
       "      <td>Jl Daan Mogot No. 17 Kel. Duri Kepa, Kec. Kebo...</td>\n",
       "    </tr>\n",
       "    <tr>\n",
       "      <th>4</th>\n",
       "      <td>Bank BRI</td>\n",
       "      <td>DKI Jakarta</td>\n",
       "      <td>Jakarta Barat</td>\n",
       "      <td>KCP Greenville</td>\n",
       "      <td>Jl. Komplek Greenville Blok C No.2A, Kebon Jer...</td>\n",
       "    </tr>\n",
       "    <tr>\n",
       "      <th>...</th>\n",
       "      <td>...</td>\n",
       "      <td>...</td>\n",
       "      <td>...</td>\n",
       "      <td>...</td>\n",
       "      <td>...</td>\n",
       "    </tr>\n",
       "    <tr>\n",
       "      <th>948</th>\n",
       "      <td>Bank BRI</td>\n",
       "      <td>Jawa Timur</td>\n",
       "      <td>Tuban</td>\n",
       "      <td>KCP Jatirogo</td>\n",
       "      <td>Jl. Raya Timur No. 125, Jatirogo, Tuban</td>\n",
       "    </tr>\n",
       "    <tr>\n",
       "      <th>949</th>\n",
       "      <td>Bank BRI</td>\n",
       "      <td>Jawa Timur</td>\n",
       "      <td>Tuban</td>\n",
       "      <td>KK RS NU Tuban</td>\n",
       "      <td>Jl. Letda Sucipto No. 211, Tuban</td>\n",
       "    </tr>\n",
       "    <tr>\n",
       "      <th>950</th>\n",
       "      <td>Bank BRI</td>\n",
       "      <td>Jawa Timur</td>\n",
       "      <td>Tuban</td>\n",
       "      <td>KC T U B A N</td>\n",
       "      <td>Jl. Veteran No. 15, Tuban</td>\n",
       "    </tr>\n",
       "    <tr>\n",
       "      <th>951</th>\n",
       "      <td>Bank BRI</td>\n",
       "      <td>Jawa Timur</td>\n",
       "      <td>Tulungagung</td>\n",
       "      <td>KCP Ngunut</td>\n",
       "      <td>Kecamatan Ngunut, Tulungagung</td>\n",
       "    </tr>\n",
       "    <tr>\n",
       "      <th>952</th>\n",
       "      <td>Bank BRI</td>\n",
       "      <td>Jawa Timur</td>\n",
       "      <td>Tulungagung</td>\n",
       "      <td>KC TULUNGAGUNG</td>\n",
       "      <td>Jl. P. Diponegoro No. 2-B, Tulungagung</td>\n",
       "    </tr>\n",
       "  </tbody>\n",
       "</table>\n",
       "<p>953 rows × 5 columns</p>\n",
       "</div>"
      ],
      "text/plain": [
       "         Bank     Provinsi           City           Cabang  \\\n",
       "0    Bank BRI  DKI Jakarta  Jakarta Barat        KK Asemka   \n",
       "1    Bank BRI  DKI Jakarta  Jakarta Barat     KCP Batusari   \n",
       "2    Bank BRI  DKI Jakarta  Jakarta Barat  KCP Citra Niaga   \n",
       "3    Bank BRI  DKI Jakarta  Jakarta Barat    KC Daan Mogot   \n",
       "4    Bank BRI  DKI Jakarta  Jakarta Barat   KCP Greenville   \n",
       "..        ...          ...            ...              ...   \n",
       "948  Bank BRI   Jawa Timur          Tuban     KCP Jatirogo   \n",
       "949  Bank BRI   Jawa Timur          Tuban   KK RS NU Tuban   \n",
       "950  Bank BRI   Jawa Timur          Tuban     KC T U B A N   \n",
       "951  Bank BRI   Jawa Timur    Tulungagung       KCP Ngunut   \n",
       "952  Bank BRI   Jawa Timur    Tulungagung   KC TULUNGAGUNG   \n",
       "\n",
       "                                                Alamat  \n",
       "0    Jl. Pintu Kecil No.58 F Kel. Roa Malaka, Kec. ...  \n",
       "1    Jl. Kebon Jeruk Raya No.24, Kebon Jeruk, Jakar...  \n",
       "2    Ruko Citra Niaga Blok A No.28, Jl. Utanjati Ka...  \n",
       "3    Jl Daan Mogot No. 17 Kel. Duri Kepa, Kec. Kebo...  \n",
       "4    Jl. Komplek Greenville Blok C No.2A, Kebon Jer...  \n",
       "..                                                 ...  \n",
       "948            Jl. Raya Timur No. 125, Jatirogo, Tuban  \n",
       "949                   Jl. Letda Sucipto No. 211, Tuban  \n",
       "950                          Jl. Veteran No. 15, Tuban  \n",
       "951                      Kecamatan Ngunut, Tulungagung  \n",
       "952             Jl. P. Diponegoro No. 2-B, Tulungagung  \n",
       "\n",
       "[953 rows x 5 columns]"
      ]
     },
     "execution_count": 155,
     "metadata": {},
     "output_type": "execute_result"
    }
   ],
   "source": [
    "label = 'Bank BRI'\n",
    "\n",
    "cabang = []\n",
    "alamat = []\n",
    "kota = []\n",
    "provinsi = []\n",
    "bank = []\n",
    "for w in range(len(tab)):\n",
    "    div = tab[w].find_all('div')\n",
    "    for q in range(len(div)):\n",
    "        if len(div[q]) == 1 :\n",
    "            continue\n",
    "        p = div[q].find_all('p')\n",
    "        prov = div[q].find('h4').text\n",
    "        for s in range(len(p)):\n",
    "            kotas = p[s].text\n",
    "            url = p[s].find('a')['href']\n",
    "\n",
    "            response = requests.get(url)\n",
    "            web = response.content\n",
    "            sp = bs(web, 'html.parser')\n",
    "\n",
    "            content = sp.find_all(class_ = 'entry-content')\n",
    "            tr = content[0].find_all('tr')\n",
    "            for i in range(len(tr)):\n",
    "                td = tr[i].find_all('td')\n",
    "                if len(td) == 1 or len(td) == 0:\n",
    "                    continue\n",
    "                if td[0].text == 'No' or td[0].text == 'Kode':\n",
    "                    continue\n",
    "                elif len(td) == 3 :\n",
    "                    cab = td[0].text + ' ' + td[1].text\n",
    "                    cabang.append(cab)\n",
    "                    alamat.append(td[2].text)\n",
    "                elif len(td) == 7 :\n",
    "                    cab = td[2].text + ' ' + td[1].text\n",
    "                    cabang.append(cab)\n",
    "                    alamat.append(td[-1].text)\n",
    "                else :\n",
    "                    cab = td[1].text + ' ' + td[2].text\n",
    "                    cabang.append(cab)\n",
    "                    alamat.append(td[3].text)\n",
    "                kota.append(kotas)\n",
    "                provinsi.append(prov)\n",
    "                bank.append(label)\n",
    "                print('Kota : ', kota[-1], end='\\r')\n",
    "                #break\n",
    "            #break\n",
    "        #break\n",
    "    break\n",
    "\n",
    "dataframe = pd.DataFrame(columns=['Bank','Provinsi','City','Cabang','Alamat'])\n",
    "dataframe['Bank'] = bank\n",
    "dataframe['Provinsi'] = provinsi\n",
    "dataframe['City'] = kota\n",
    "dataframe['Cabang'] = cabang\n",
    "dataframe['Alamat'] = alamat\n",
    "dataframe"
   ]
  },
  {
   "cell_type": "code",
   "execution_count": 194,
   "id": "772a4013-a3c2-4c2e-87bc-1488515eab97",
   "metadata": {},
   "outputs": [],
   "source": [
    "div = tab[1].find_all('div')\n",
    "p = div[1].find_all('a')\n",
    "url = p[0]['href']\n",
    "\n",
    "response = requests.get(url)\n",
    "web = response.content\n",
    "sp = bs(web, 'html.parser')\n",
    "content = sp.find_all(class_ = 'entry-content')\n",
    "#content[0]\n",
    "tr = content[0].find_all('tr')\n",
    "if len(tr) == 0 :\n",
    "    tr = content[0].find_all('a')\n",
    "    for i in range(len(tr)) :\n",
    "        if tr[i].text == 'bank BRI' or tr[i].text == 'BE':\n",
    "            continue\n",
    "        else :\n",
    "            break"
   ]
  },
  {
   "cell_type": "code",
   "execution_count": 188,
   "id": "e5d83466-eb3c-4e42-a932-75870682a889",
   "metadata": {},
   "outputs": [
    {
     "data": {
      "text/plain": [
       "[<a href=\"http://www.alamatbank.com/bri/\">bank BRI</a>,\n",
       " <a href=\"http://kodesingkatan.com/be-bengkulu/\">BE</a>,\n",
       " <a href=\"http://www.alamatbank.com/kantor-bank-bri-di-bengkulu/\">Bengkulu</a>,\n",
       " <a href=\"http://www.alamatbank.com/kantor-bank-bri-di-bengkulu-selatan-be/\">Bengkulu Selatan</a>,\n",
       " <a href=\"http://www.alamatbank.com/kantor-bank-bri-di-bengkulu-tengah-be/\">Bengkulu Tengah</a>,\n",
       " <a href=\"http://www.alamatbank.com/kantor-bank-bri-di-bengkulu-utara/\">Bengkulu Utara</a>,\n",
       " <a href=\"http://www.alamatbank.com/kantor-bank-bri-di-kaur-be/\">Kaur</a>,\n",
       " <a href=\"http://www.alamatbank.com/kantor-bank-bri-di-kepahiang-be/\">Kepahiang</a>,\n",
       " <a href=\"http://www.alamatbank.com/kantor-bank-bri-di-lebong-be/\">Lebong</a>,\n",
       " <a href=\"http://www.alamatbank.com/kantor-bank-bri-di-mukomuko-be/\">Mukomuko</a>,\n",
       " <a href=\"http://www.alamatbank.com/kantor-bank-bri-di-rejang-lebong/\">Rejang Lebong</a>,\n",
       " <a href=\"http://www.alamatbank.com/kantor-bank-bri-di-seluma-be/\">Seluma</a>]"
      ]
     },
     "execution_count": 188,
     "metadata": {},
     "output_type": "execute_result"
    }
   ],
   "source": [
    "content[0].find_all('a')"
   ]
  },
  {
   "cell_type": "code",
   "execution_count": 191,
   "id": "265ea291-2159-40c0-8471-86340d466ebf",
   "metadata": {},
   "outputs": [
    {
     "data": {
      "text/plain": [
       "<a href=\"http://www.alamatbank.com/bri/\">bank BRI</a>"
      ]
     },
     "execution_count": 191,
     "metadata": {},
     "output_type": "execute_result"
    }
   ],
   "source": [
    "tr[0]"
   ]
  },
  {
   "cell_type": "code",
   "execution_count": null,
   "id": "0f32c798-1b4d-4e7f-95cb-62ed542e4f05",
   "metadata": {},
   "outputs": [],
   "source": []
  }
 ],
 "metadata": {
  "kernelspec": {
   "display_name": "Python 3 (ipykernel)",
   "language": "python",
   "name": "python3"
  },
  "language_info": {
   "codemirror_mode": {
    "name": "ipython",
    "version": 3
   },
   "file_extension": ".py",
   "mimetype": "text/x-python",
   "name": "python",
   "nbconvert_exporter": "python",
   "pygments_lexer": "ipython3",
   "version": "3.9.12"
  }
 },
 "nbformat": 4,
 "nbformat_minor": 5
}
